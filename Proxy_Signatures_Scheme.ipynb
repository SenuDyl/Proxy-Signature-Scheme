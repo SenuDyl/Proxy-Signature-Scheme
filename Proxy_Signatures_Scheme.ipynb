{
  "cells": [
    {
      "cell_type": "markdown",
      "metadata": {
        "id": "view-in-github",
        "colab_type": "text"
      },
      "source": [
        "<a href=\"https://colab.research.google.com/github/SenuDyl/Proxy-Signature-Scheme/blob/main/Proxy_Signatures_Scheme.ipynb\" target=\"_parent\"><img src=\"https://colab.research.google.com/assets/colab-badge.svg\" alt=\"Open In Colab\"/></a>"
      ]
    },
    {
      "cell_type": "markdown",
      "id": "4069644f",
      "metadata": {
        "id": "4069644f"
      },
      "source": [
        "# Basic Proxy Signature Protocol for Partial Delegation"
      ]
    },
    {
      "cell_type": "markdown",
      "id": "30e7c614",
      "metadata": {
        "id": "30e7c614"
      },
      "source": [
        "## Greatest Common Divisor\n",
        "\n",
        "We need this function in the signature scheme as a utility function."
      ]
    },
    {
      "cell_type": "code",
      "execution_count": null,
      "id": "4d75e8c5",
      "metadata": {
        "id": "4d75e8c5"
      },
      "outputs": [],
      "source": [
        "def gcd(a, b):\n",
        "    if((a<0) or (b<0) or (a<b)):\n",
        "        print(\"wrong parameter input\")\n",
        "        return\n",
        "\n",
        "    while(b != 0):\n",
        "        r = a % b\n",
        "        a = b\n",
        "        b = r\n",
        "\n",
        "    return a"
      ]
    },
    {
      "cell_type": "code",
      "execution_count": null,
      "id": "9063ffe1",
      "metadata": {
        "id": "9063ffe1",
        "outputId": "68e8e882-1e2b-4c0e-f3d9-ac63e06d0212",
        "colab": {
          "base_uri": "https://localhost:8080/"
        }
      },
      "outputs": [
        {
          "output_type": "stream",
          "name": "stdout",
          "text": [
            "gcd( 31 , 23 )= 1\n",
            "gcd( 16 , 9 )= 1\n",
            "gcd( 468 , 249 )= 3\n"
          ]
        }
      ],
      "source": [
        "a = 31\n",
        "b = 23\n",
        "d = gcd(a,b)\n",
        "print('gcd(',a,',',b,')=',d)\n",
        "\n",
        "a = 16\n",
        "b = 9\n",
        "d = gcd(a,b)\n",
        "print('gcd(',a,',',b,')=',d)\n",
        "\n",
        "a = 468\n",
        "b = 249\n",
        "d = gcd(a,b)\n",
        "print('gcd(',a,',',b,')=',d)"
      ]
    },
    {
      "cell_type": "markdown",
      "id": "71304b24",
      "metadata": {
        "id": "71304b24"
      },
      "source": [
        "# Protocol\n",
        "\n",
        "## Setup: Key pair generation of original signer\n",
        "\n",
        "public parameter - modulus: prime $p$\n",
        "\n",
        "public parameter - generator for $Z^*_p$: $g$\n",
        "\n",
        "public key: v\n",
        "\n",
        "secret key: s\n",
        "\n",
        "__In this test implementation, only input needs to be given by the user is the prime modulus $p$.__"
      ]
    },
    {
      "cell_type": "markdown",
      "source": [
        "### Efficiently find a generator $g$ where $p$ is a large prime (e.g. 32 bits)\n",
        "\n",
        "1.   Allow the use of a large prime number $p$ (for example, a 32 bit number)\n",
        "\n",
        "2.   Efficiently find a generator $g$ for a multiplicative group of integers modulo $p$\n",
        "\n",
        "To efficiently find a generator $g$ for a large prime $p$, we use the fact that an element $g$ ∈ $Z^*_p$ is a generator if its order is $p - 1$. By factoring\n",
        "$p - 1$ and checking that\n",
        "$$\n",
        "a^{\\frac{p-1}{q}} \\not\\equiv 1 \\pmod{p}\n",
        "$$\n",
        "for all prime factors $q$, we can quickly verify if $a$ generates the entire group without testing all powers, making the method efficient even for large primes.\n",
        "Also, using Python's pow() with three arguments (pow(base, exp, mod)) to do modular arithmetic is quicker than using % by itself.\n"
      ],
      "metadata": {
        "id": "tW3uMfHVtu3t"
      },
      "id": "tW3uMfHVtu3t"
    },
    {
      "cell_type": "markdown",
      "source": [
        "### Generate a random number of 32-bit and check for its primality using Miller-Rabin primality test"
      ],
      "metadata": {
        "id": "5QNJ0S2U95RH"
      },
      "id": "5QNJ0S2U95RH"
    },
    {
      "cell_type": "code",
      "source": [
        "import math\n",
        "import random\n",
        "\n",
        "# Miller–Rabin primality test\n",
        "def is_prime(n, k=20):\n",
        "    \"\"\"Check if n is prime using Miller-Rabin primality test\"\"\"\n",
        "    if n <= 1:\n",
        "        return False\n",
        "    if n <= 3:\n",
        "        return True\n",
        "    if n % 2 == 0:\n",
        "        return False\n",
        "\n",
        "    # Write n-1 as 2^r * d\n",
        "    r, d = 0, n - 1\n",
        "    while d % 2 == 0:\n",
        "        r += 1\n",
        "        d //= 2\n",
        "\n",
        "    # Witness loop\n",
        "    for _ in range(k):\n",
        "        a = random.randrange(2, n - 2)\n",
        "        x = pow(a, d, n)  # a^d % n\n",
        "        if x == 1 or x == n - 1:\n",
        "            continue\n",
        "        for _ in range(r - 1):\n",
        "            x = pow(x, 2, n)\n",
        "            if x == n - 1:\n",
        "                break\n",
        "        else:\n",
        "            return False\n",
        "    return True\n",
        "\n",
        "def get_large_prime(bits=32):\n",
        "    \"\"\"Generate a random prime of given bit length.\"\"\"\n",
        "    while True:\n",
        "        # Pick a random number in [2^(bits-1), 2^bits - 1]\n",
        "        n = random.randrange(2**(bits-1), 2**bits)\n",
        "        if is_prime(n):\n",
        "            return n"
      ],
      "metadata": {
        "id": "WVXsr3LS94Ie"
      },
      "id": "WVXsr3LS94Ie",
      "execution_count": null,
      "outputs": []
    },
    {
      "cell_type": "code",
      "source": [
        "print(get_large_prime())"
      ],
      "metadata": {
        "colab": {
          "base_uri": "https://localhost:8080/"
        },
        "id": "5761gZ67-HD9",
        "outputId": "7c841841-aff7-4461-80d7-a7ab11a6b284"
      },
      "id": "5761gZ67-HD9",
      "execution_count": null,
      "outputs": [
        {
          "output_type": "stream",
          "name": "stdout",
          "text": [
            "3243519073\n"
          ]
        }
      ]
    },
    {
      "cell_type": "code",
      "source": [
        "import math\n",
        "import random\n",
        "\n",
        "def prime_factors(n):\n",
        "\n",
        "    \"\"\" Returns a set of prime factors of n \"\"\"\n",
        "    factors = set()\n",
        "\n",
        "    # Check divisibility by 2\n",
        "    while n % 2 == 0:\n",
        "        factors.add(2)\n",
        "        n = n // 2\n",
        "\n",
        "    # Check odd numbers from 3 upwards\n",
        "    for i in range(3, int(math.sqrt(n)) + 1, 2):\n",
        "        while n % i == 0:\n",
        "            factors.add(i)\n",
        "            n = n // i\n",
        "\n",
        "    # If remaining n is a prime number greater than 2\n",
        "    if n > 2:\n",
        "        factors.add(n)\n",
        "\n",
        "    return factors\n",
        "\n",
        "def find_generator_efficient(p):\n",
        "    # Here we calculate the euler totient of the given prime p\n",
        "    phi = p - 1\n",
        "    factors = prime_factors(phi)\n",
        "\n",
        "    for a in range(2, p):\n",
        "        for q in factors:\n",
        "          # Using pow() function to calculate the modulus explicitly increases the efficiency greatly\n",
        "            if pow(a, phi // q, p) == 1:\n",
        "                break\n",
        "        else:\n",
        "            return a  # found a generator\n",
        "\n",
        "\n",
        "# p = 4294967311  # Giving 32-bit prime directly\n",
        "p = get_large_prime() # Get a random prime number using Miller-Rabin primality test\n",
        "g = find_generator_efficient(p)\n",
        "s = random.randint(1,p-2) # secret key, Z_{p-1}/{0}\n",
        "v = pow(g, s, p) # public key\n",
        "\n",
        "print('*public parameters*')\n",
        "print('prime modulus (p):',p)\n",
        "print('generator     (g):',g)\n",
        "print('*key pair of original signer*')\n",
        "print('public key    (v):',v)\n",
        "print('secret key    (s):',s)\n"
      ],
      "metadata": {
        "id": "Le_f_5r96ReD",
        "colab": {
          "base_uri": "https://localhost:8080/"
        },
        "outputId": "b0cb90a8-4b97-44aa-c6b2-3bb19f345bc4"
      },
      "id": "Le_f_5r96ReD",
      "execution_count": null,
      "outputs": [
        {
          "output_type": "stream",
          "name": "stdout",
          "text": [
            "*public parameters*\n",
            "prime modulus (p): 2879745989\n",
            "generator     (g): 2\n",
            "*key pair of original signer*\n",
            "public key    (v): 354663066\n",
            "secret key    (s): 1525162280\n"
          ]
        }
      ]
    },
    {
      "cell_type": "markdown",
      "id": "9f1e1bf3",
      "metadata": {
        "id": "9f1e1bf3"
      },
      "source": [
        "## Step 1: Proxy generation\n",
        "\n",
        "Proxy: ($\\sigma$, K)"
      ]
    },
    {
      "cell_type": "code",
      "source": [
        "import random\n",
        "k = random.randint(1,p-2) # random number, Z_{p-1}/{0}\n",
        "print('(just any) random number k:',k)\n",
        "\n",
        "print('*proxy value pair for proxy signer*')\n",
        "\n",
        "bigk = pow(g, k, p)\n",
        "print('K    :',bigk)\n",
        "\n",
        "sigma = pow((s + k*bigk), 1, p-1)\n",
        "print('sigma:',sigma)"
      ],
      "metadata": {
        "id": "-0EtzLXtSrdi",
        "colab": {
          "base_uri": "https://localhost:8080/"
        },
        "outputId": "b9b429c2-19a7-48e2-ae07-94ef4ce05fec"
      },
      "id": "-0EtzLXtSrdi",
      "execution_count": null,
      "outputs": [
        {
          "output_type": "stream",
          "name": "stdout",
          "text": [
            "(just any) random number k: 16460381\n",
            "*proxy value pair for proxy signer*\n",
            "K    : 2204211099\n",
            "sigma: 177147983\n"
          ]
        }
      ]
    },
    {
      "cell_type": "markdown",
      "id": "1257811c",
      "metadata": {
        "id": "1257811c"
      },
      "source": [
        "## Step 2: Proxy delivery\n",
        "\n",
        "The proxy $(\\sigma,K)$, must be given by original signer to proxy signer securely.\n",
        "\n",
        "For example, using Diffie-Hellman to create a secure tunnel, this can be done."
      ]
    },
    {
      "cell_type": "markdown",
      "id": "77667dc9",
      "metadata": {
        "id": "77667dc9"
      },
      "source": [
        "## Step 3: Proxy verification"
      ]
    },
    {
      "cell_type": "code",
      "source": [
        "lhs = pow(g, sigma, p)\n",
        "\n",
        "# rhs = (v*(bigk**bigk))%p\n",
        "rhs = (v * pow(bigk, bigk, p)) % p\n",
        "\n",
        "print('LHS:',lhs)\n",
        "print('RHS:',rhs)\n",
        "\n",
        "if(lhs==rhs):\n",
        "    print('Proxy Verification: Passed')\n",
        "else:\n",
        "    print('Proxy Verification: Failed')"
      ],
      "metadata": {
        "id": "hFZtKuZFUs6J",
        "colab": {
          "base_uri": "https://localhost:8080/"
        },
        "outputId": "de69ad04-7d3b-498b-f41e-cd148a83d78e"
      },
      "id": "hFZtKuZFUs6J",
      "execution_count": null,
      "outputs": [
        {
          "output_type": "stream",
          "name": "stdout",
          "text": [
            "LHS: 1583117598\n",
            "RHS: 1583117598\n",
            "Proxy Verification: Passed\n"
          ]
        }
      ]
    },
    {
      "cell_type": "markdown",
      "id": "fd711b1a",
      "metadata": {
        "id": "fd711b1a"
      },
      "source": [
        "## Step 4: Signing by the proxy signer\n",
        "\n",
        "We are going to use __ElGamal signature scheme__.\n",
        "\n",
        "The __ElGamal signing__ protocol to sign message $m$ where the secret key of the signer is $x$:\n",
        "1. Choose an integer $k$ randomly from $\\{ 2 \\ldots p−2 \\}$  with $k$ relatively prime to $p−1$.\n",
        "2. Compute $r \\equiv g^{k} \\pmod p$.\n",
        "3. Compute $s \\equiv (H(m)-xr)k^{-1} \\pmod {p-1}$.\n",
        "If s = 0, then start again with a different random k.\n",
        "\n",
        "The signature is $(r,s)$.\n",
        "\n",
        "When generating the proxy signature, use $\\sigma$ instead of the secret key $x$."
      ]
    },
    {
      "cell_type": "markdown",
      "source": [
        "### a. Upload file\n",
        "\n"
      ],
      "metadata": {
        "id": "YaWMGWpng5mL"
      },
      "id": "YaWMGWpng5mL"
    },
    {
      "cell_type": "code",
      "source": [
        "from google.colab import files\n",
        "uploaded = files.upload()\n",
        "\n",
        "fileName = list(uploaded.keys())[0]\n",
        "print(\"Uploaded file:\", fileName)\n",
        "\n",
        "# Open and read the file\n",
        "with open(fileName, \"rb\") as f:\n",
        "    content = f.read()\n",
        "\n",
        "print(\"File content:\\n\")\n",
        "print(content)"
      ],
      "metadata": {
        "colab": {
          "base_uri": "https://localhost:8080/",
          "height": 142
        },
        "id": "Ntw3CDXrg_vd",
        "outputId": "b4baad30-46d6-47a0-cc2d-33684582d66e"
      },
      "id": "Ntw3CDXrg_vd",
      "execution_count": null,
      "outputs": [
        {
          "output_type": "display_data",
          "data": {
            "text/plain": [
              "<IPython.core.display.HTML object>"
            ],
            "text/html": [
              "\n",
              "     <input type=\"file\" id=\"files-0846adcf-034f-4fa2-934f-69a8520431ec\" name=\"files[]\" multiple disabled\n",
              "        style=\"border:none\" />\n",
              "     <output id=\"result-0846adcf-034f-4fa2-934f-69a8520431ec\">\n",
              "      Upload widget is only available when the cell has been executed in the\n",
              "      current browser session. Please rerun this cell to enable.\n",
              "      </output>\n",
              "      <script>// Copyright 2017 Google LLC\n",
              "//\n",
              "// Licensed under the Apache License, Version 2.0 (the \"License\");\n",
              "// you may not use this file except in compliance with the License.\n",
              "// You may obtain a copy of the License at\n",
              "//\n",
              "//      http://www.apache.org/licenses/LICENSE-2.0\n",
              "//\n",
              "// Unless required by applicable law or agreed to in writing, software\n",
              "// distributed under the License is distributed on an \"AS IS\" BASIS,\n",
              "// WITHOUT WARRANTIES OR CONDITIONS OF ANY KIND, either express or implied.\n",
              "// See the License for the specific language governing permissions and\n",
              "// limitations under the License.\n",
              "\n",
              "/**\n",
              " * @fileoverview Helpers for google.colab Python module.\n",
              " */\n",
              "(function(scope) {\n",
              "function span(text, styleAttributes = {}) {\n",
              "  const element = document.createElement('span');\n",
              "  element.textContent = text;\n",
              "  for (const key of Object.keys(styleAttributes)) {\n",
              "    element.style[key] = styleAttributes[key];\n",
              "  }\n",
              "  return element;\n",
              "}\n",
              "\n",
              "// Max number of bytes which will be uploaded at a time.\n",
              "const MAX_PAYLOAD_SIZE = 100 * 1024;\n",
              "\n",
              "function _uploadFiles(inputId, outputId) {\n",
              "  const steps = uploadFilesStep(inputId, outputId);\n",
              "  const outputElement = document.getElementById(outputId);\n",
              "  // Cache steps on the outputElement to make it available for the next call\n",
              "  // to uploadFilesContinue from Python.\n",
              "  outputElement.steps = steps;\n",
              "\n",
              "  return _uploadFilesContinue(outputId);\n",
              "}\n",
              "\n",
              "// This is roughly an async generator (not supported in the browser yet),\n",
              "// where there are multiple asynchronous steps and the Python side is going\n",
              "// to poll for completion of each step.\n",
              "// This uses a Promise to block the python side on completion of each step,\n",
              "// then passes the result of the previous step as the input to the next step.\n",
              "function _uploadFilesContinue(outputId) {\n",
              "  const outputElement = document.getElementById(outputId);\n",
              "  const steps = outputElement.steps;\n",
              "\n",
              "  const next = steps.next(outputElement.lastPromiseValue);\n",
              "  return Promise.resolve(next.value.promise).then((value) => {\n",
              "    // Cache the last promise value to make it available to the next\n",
              "    // step of the generator.\n",
              "    outputElement.lastPromiseValue = value;\n",
              "    return next.value.response;\n",
              "  });\n",
              "}\n",
              "\n",
              "/**\n",
              " * Generator function which is called between each async step of the upload\n",
              " * process.\n",
              " * @param {string} inputId Element ID of the input file picker element.\n",
              " * @param {string} outputId Element ID of the output display.\n",
              " * @return {!Iterable<!Object>} Iterable of next steps.\n",
              " */\n",
              "function* uploadFilesStep(inputId, outputId) {\n",
              "  const inputElement = document.getElementById(inputId);\n",
              "  inputElement.disabled = false;\n",
              "\n",
              "  const outputElement = document.getElementById(outputId);\n",
              "  outputElement.innerHTML = '';\n",
              "\n",
              "  const pickedPromise = new Promise((resolve) => {\n",
              "    inputElement.addEventListener('change', (e) => {\n",
              "      resolve(e.target.files);\n",
              "    });\n",
              "  });\n",
              "\n",
              "  const cancel = document.createElement('button');\n",
              "  inputElement.parentElement.appendChild(cancel);\n",
              "  cancel.textContent = 'Cancel upload';\n",
              "  const cancelPromise = new Promise((resolve) => {\n",
              "    cancel.onclick = () => {\n",
              "      resolve(null);\n",
              "    };\n",
              "  });\n",
              "\n",
              "  // Wait for the user to pick the files.\n",
              "  const files = yield {\n",
              "    promise: Promise.race([pickedPromise, cancelPromise]),\n",
              "    response: {\n",
              "      action: 'starting',\n",
              "    }\n",
              "  };\n",
              "\n",
              "  cancel.remove();\n",
              "\n",
              "  // Disable the input element since further picks are not allowed.\n",
              "  inputElement.disabled = true;\n",
              "\n",
              "  if (!files) {\n",
              "    return {\n",
              "      response: {\n",
              "        action: 'complete',\n",
              "      }\n",
              "    };\n",
              "  }\n",
              "\n",
              "  for (const file of files) {\n",
              "    const li = document.createElement('li');\n",
              "    li.append(span(file.name, {fontWeight: 'bold'}));\n",
              "    li.append(span(\n",
              "        `(${file.type || 'n/a'}) - ${file.size} bytes, ` +\n",
              "        `last modified: ${\n",
              "            file.lastModifiedDate ? file.lastModifiedDate.toLocaleDateString() :\n",
              "                                    'n/a'} - `));\n",
              "    const percent = span('0% done');\n",
              "    li.appendChild(percent);\n",
              "\n",
              "    outputElement.appendChild(li);\n",
              "\n",
              "    const fileDataPromise = new Promise((resolve) => {\n",
              "      const reader = new FileReader();\n",
              "      reader.onload = (e) => {\n",
              "        resolve(e.target.result);\n",
              "      };\n",
              "      reader.readAsArrayBuffer(file);\n",
              "    });\n",
              "    // Wait for the data to be ready.\n",
              "    let fileData = yield {\n",
              "      promise: fileDataPromise,\n",
              "      response: {\n",
              "        action: 'continue',\n",
              "      }\n",
              "    };\n",
              "\n",
              "    // Use a chunked sending to avoid message size limits. See b/62115660.\n",
              "    let position = 0;\n",
              "    do {\n",
              "      const length = Math.min(fileData.byteLength - position, MAX_PAYLOAD_SIZE);\n",
              "      const chunk = new Uint8Array(fileData, position, length);\n",
              "      position += length;\n",
              "\n",
              "      const base64 = btoa(String.fromCharCode.apply(null, chunk));\n",
              "      yield {\n",
              "        response: {\n",
              "          action: 'append',\n",
              "          file: file.name,\n",
              "          data: base64,\n",
              "        },\n",
              "      };\n",
              "\n",
              "      let percentDone = fileData.byteLength === 0 ?\n",
              "          100 :\n",
              "          Math.round((position / fileData.byteLength) * 100);\n",
              "      percent.textContent = `${percentDone}% done`;\n",
              "\n",
              "    } while (position < fileData.byteLength);\n",
              "  }\n",
              "\n",
              "  // All done.\n",
              "  yield {\n",
              "    response: {\n",
              "      action: 'complete',\n",
              "    }\n",
              "  };\n",
              "}\n",
              "\n",
              "scope.google = scope.google || {};\n",
              "scope.google.colab = scope.google.colab || {};\n",
              "scope.google.colab._files = {\n",
              "  _uploadFiles,\n",
              "  _uploadFilesContinue,\n",
              "};\n",
              "})(self);\n",
              "</script> "
            ]
          },
          "metadata": {}
        },
        {
          "output_type": "stream",
          "name": "stdout",
          "text": [
            "Saving SampleMessage.txt to SampleMessage.txt\n",
            "Uploaded file: SampleMessage.txt\n",
            "File content:\n",
            "\n",
            "b'This is a secret message'\n"
          ]
        }
      ]
    },
    {
      "cell_type": "markdown",
      "source": [
        "### b. Hash the file content"
      ],
      "metadata": {
        "id": "YqJJm3a6hzF9"
      },
      "id": "YqJJm3a6hzF9"
    },
    {
      "cell_type": "code",
      "source": [
        "import hashlib\n",
        "\n",
        "# Hash the file content\n",
        "file_hash = hashlib.sha256(content).hexdigest()\n",
        "\n",
        "# Convert the file hash to a integer\n",
        "m = int(file_hash, 16) % (p-1)  # Ensure that 1 <= m <= p-1\n",
        "\n",
        "print(\"Message (hashed from file):\", m)"
      ],
      "metadata": {
        "colab": {
          "base_uri": "https://localhost:8080/"
        },
        "id": "942Zv8LOh4e8",
        "outputId": "45101d05-bc85-4fa0-e4ca-24b07aeab490"
      },
      "id": "942Zv8LOh4e8",
      "execution_count": null,
      "outputs": [
        {
          "output_type": "stream",
          "name": "stdout",
          "text": [
            "Message (hashed from file): 923845338\n"
          ]
        }
      ]
    },
    {
      "cell_type": "code",
      "source": [
        "k = 0\n",
        "\n",
        "for i in range (1000): # this number 1000 is just a random value for the number of tries\n",
        "    k = random.randint(2,p-2) # random number k is in {2 ... (p-2)} and gcd(k,(p-1))=1\n",
        "    #print('testing',i,'th random number k:',k)\n",
        "\n",
        "    d = gcd(p-1,k)\n",
        "    if(d==1):\n",
        "        break\n",
        "\n",
        "print('(a special) random number k:',k,'(found after',i,'tries. This is relatively prime to p-1 =',p-1,')')\n",
        "\n",
        "r = pow(g, k, p)\n",
        "print('r :',r)\n",
        "\n",
        "s1 = m - (sigma*r) # in place of s, use sigma, theproxy secret\n",
        "print('s1:',s1)"
      ],
      "metadata": {
        "colab": {
          "base_uri": "https://localhost:8080/"
        },
        "id": "AHvGMFQIfibf",
        "outputId": "5364fccf-8335-4fc9-f7b6-ae43b163db14"
      },
      "id": "AHvGMFQIfibf",
      "execution_count": null,
      "outputs": [
        {
          "output_type": "stream",
          "name": "stdout",
          "text": [
            "(a special) random number k: 1248979951 (found after 1 tries. This is relatively prime to p-1 = 2879745988 )\n",
            "r : 2365268700\n",
            "s1: -419002578534186762\n"
          ]
        }
      ]
    },
    {
      "cell_type": "markdown",
      "source": [
        "### Efficient method for finding modulo inverse k mod q"
      ],
      "metadata": {
        "id": "kPW3Voz7j05i"
      },
      "id": "kPW3Voz7j05i"
    },
    {
      "cell_type": "code",
      "source": [
        "def modinv(a, m):\n",
        "    # Extended Euclidean Algorithm\n",
        "    m0, x0, x1 = m, 0, 1\n",
        "    if m == 1:\n",
        "        return 0\n",
        "    while a > 1:\n",
        "        q = a // m\n",
        "        a, m = m, a % m\n",
        "        x0, x1 = x1 - q * x0, x0\n",
        "    return x1 + m0 if x1 < 0 else x1\n",
        "\n",
        "# Example\n",
        "invk = modinv(k, q)\n",
        "print('Modulo inverse of k mod q:',invk,'(for',k,'mod',q,')')"
      ],
      "metadata": {
        "colab": {
          "base_uri": "https://localhost:8080/"
        },
        "id": "-LPgZLrcj6e6",
        "outputId": "540494ca-e3e2-4cd9-f033-19917e26bdf7"
      },
      "id": "-LPgZLrcj6e6",
      "execution_count": null,
      "outputs": [
        {
          "output_type": "stream",
          "name": "stdout",
          "text": [
            "Modulo inverse of k mod q: 1045782651 (for 1248979951 mod 2879745988 )\n"
          ]
        }
      ]
    },
    {
      "cell_type": "code",
      "execution_count": null,
      "id": "83e0440d",
      "metadata": {
        "id": "83e0440d",
        "outputId": "1496653c-dae5-48b9-fa50-1f9946e1d6de",
        "colab": {
          "base_uri": "https://localhost:8080/"
        }
      },
      "outputs": [
        {
          "output_type": "stream",
          "name": "stdout",
          "text": [
            "s: 2243452990\n",
            "The proxy signed message is (m,(r,s),K):( 923845338 ( 2365268700 , 2243452990 ) 2204211099 )\n"
          ]
        }
      ],
      "source": [
        "s = (s1*invk)%(p-1)\n",
        "print('s:',s)\n",
        "print('The proxy signed message is (m,(r,s),K):(',m,'(',r,',',s,')',bigk,')')"
      ]
    },
    {
      "cell_type": "code",
      "source": [
        "proxy_signature = {\n",
        "    \"message\": m,\n",
        "    \"r\": r,\n",
        "    \"s\": s,\n",
        "    \"K\": bigk\n",
        "}\n",
        "\n",
        "file_path = \"proxy_signature.txt\"\n",
        "\n",
        "with open(file_path, \"w\") as f:\n",
        "  f.write(\"Proxy Signed Message:\\n\")\n",
        "  f.write(f\"m: {proxy_signature['message']}\\n\")\n",
        "  f.write(f\"r: {proxy_signature['r']}\\n\")\n",
        "  f.write(f\"s: {proxy_signature['s']}\\n\")\n",
        "  f.write(f\"K: {proxy_signature['K']}\\n\")\n",
        "\n",
        "print(f\"Proxy signature written to {file_path}\")"
      ],
      "metadata": {
        "colab": {
          "base_uri": "https://localhost:8080/"
        },
        "id": "wCB7-m_BlFFA",
        "outputId": "36982c15-c750-4321-a91c-5e9a9e7b236c"
      },
      "id": "wCB7-m_BlFFA",
      "execution_count": null,
      "outputs": [
        {
          "output_type": "stream",
          "name": "stdout",
          "text": [
            "Proxy signature written to proxy_signature.txt\n"
          ]
        }
      ]
    },
    {
      "cell_type": "code",
      "source": [
        "with open(file_path, \"r\") as f:\n",
        "  proxy_signature = f.read()\n",
        "\n",
        "print(\"File content:\\n\")\n",
        "print(proxy_signature)"
      ],
      "metadata": {
        "colab": {
          "base_uri": "https://localhost:8080/"
        },
        "id": "11tOQCjxl8_e",
        "outputId": "cbbdac9e-865b-408f-a04a-ae69c86a2ba7"
      },
      "id": "11tOQCjxl8_e",
      "execution_count": null,
      "outputs": [
        {
          "output_type": "stream",
          "name": "stdout",
          "text": [
            "File content:\n",
            "\n",
            "Proxy Signed Message:\n",
            "m: 923845338\n",
            "r: 2365268700\n",
            "s: 2243452990\n",
            "K: 2204211099\n",
            "\n"
          ]
        }
      ]
    },
    {
      "cell_type": "markdown",
      "id": "f547e51f",
      "metadata": {
        "id": "f547e51f"
      },
      "source": [
        "## Step 5: Verification of the proxy signature\n",
        "\n",
        "The new public key $v' \\equiv vK^K \\pmod p$"
      ]
    },
    {
      "cell_type": "markdown",
      "id": "0d7f64f1",
      "metadata": {
        "id": "0d7f64f1"
      },
      "source": [
        "The __ElGamal signature verification__ protocol to verify a signed message $m$ with signature $(r,s)$ where the public key of the signer is $y$:\n",
        "1. Verify that $0 < r < p$ and $0 < s < p − 1$.\n",
        "2. Verify that $g^{H(m)} \\equiv y^r r^s \\pmod p$."
      ]
    },
    {
      "cell_type": "code",
      "source": [
        "# Read from disk\n",
        "data = {}\n",
        "\n",
        "with open(\"proxy_signature.txt\", \"r\") as f:\n",
        "    for line in f:\n",
        "        line = line.strip()\n",
        "        if line == \"\" or line.startswith(\"Proxy Signed Message\"):\n",
        "            continue\n",
        "        key, value = line.split(\":\", 1)  # split only at the first colon\n",
        "        data[key.strip()] = int(value.strip())  # remove spaces\n",
        "\n",
        "# Extract values\n",
        "m = data[\"m\"]\n",
        "r = data[\"r\"]\n",
        "s = data[\"s\"]\n",
        "bigk = data[\"K\"]\n",
        "\n",
        "print(\"m:\", m, \"r:\", r, \"s:\", s, \"K:\", bigk)\n"
      ],
      "metadata": {
        "colab": {
          "base_uri": "https://localhost:8080/"
        },
        "id": "MOfDOKYPnbNp",
        "outputId": "15458588-b384-471b-b240-e309a0d86805"
      },
      "id": "MOfDOKYPnbNp",
      "execution_count": null,
      "outputs": [
        {
          "output_type": "stream",
          "name": "stdout",
          "text": [
            "m: 923845338 r: 2365268700 s: 2243452990 K: 2204211099\n"
          ]
        }
      ]
    },
    {
      "cell_type": "code",
      "execution_count": null,
      "id": "ecb2d1dc",
      "metadata": {
        "id": "ecb2d1dc",
        "outputId": "77cc14ae-c228-45e2-96b2-03ee17639962",
        "colab": {
          "base_uri": "https://localhost:8080/"
        }
      },
      "outputs": [
        {
          "output_type": "stream",
          "name": "stdout",
          "text": [
            "r = 2365268700 , s = 2243452990 , p = 2879745989\n",
            "Verification Check 1: Passed\n"
          ]
        }
      ],
      "source": [
        "print('r =',r,', s =',s,', p =',p)\n",
        "check1 = False\n",
        "check2 = False\n",
        "# Verification Check 1\n",
        "if (0<r) & (r<p):\n",
        "    if (0<s) & (s<(p-1)):\n",
        "        check1 = True\n",
        "        print('Verification Check 1: Passed')\n",
        "    else:\n",
        "        print('Verification Check 1: Failed')\n",
        "else:\n",
        "    print('Verification Check 1: Failed')"
      ]
    },
    {
      "cell_type": "code",
      "source": [
        "# Verification check 2\n",
        "y = rhs # this is the proxy public key y = VK^K mod p\n",
        "\n",
        "lhs = pow(g, m, p)\n",
        "\n",
        "rhs = (pow(y, r, p) * pow(r, s, p)) % p\n",
        "\n",
        "print('LHS:',lhs)\n",
        "print('RHS:',rhs)\n",
        "\n",
        "if(lhs==rhs):\n",
        "    check2 = True\n",
        "    print('Verification Check 2: Passed')\n",
        "else:\n",
        "    print('Verification Check 2: Failed')"
      ],
      "metadata": {
        "colab": {
          "base_uri": "https://localhost:8080/"
        },
        "id": "dT73uD2soESF",
        "outputId": "20d06b7b-fd9d-4ef8-e6de-f80e75819a94"
      },
      "id": "dT73uD2soESF",
      "execution_count": null,
      "outputs": [
        {
          "output_type": "stream",
          "name": "stdout",
          "text": [
            "LHS: 1426073877\n",
            "RHS: 1426073877\n",
            "Verification Check 2: Passed\n"
          ]
        }
      ]
    },
    {
      "cell_type": "code",
      "execution_count": null,
      "id": "a0c9713b",
      "metadata": {
        "id": "a0c9713b",
        "outputId": "73b53155-0ddb-4029-fec1-2e6c1ad5741b",
        "colab": {
          "base_uri": "https://localhost:8080/"
        }
      },
      "outputs": [
        {
          "output_type": "stream",
          "name": "stdout",
          "text": [
            "Proxy signature verification: Passed\n"
          ]
        }
      ],
      "source": [
        "if(check1 & check2):\n",
        "    print('Proxy signature verification: Passed')\n",
        "else:\n",
        "    print('Proxy signature verification: Failed')"
      ]
    },
    {
      "cell_type": "code",
      "execution_count": null,
      "id": "faf60877",
      "metadata": {
        "id": "faf60877"
      },
      "outputs": [],
      "source": []
    }
  ],
  "metadata": {
    "kernelspec": {
      "display_name": "Python 3",
      "name": "python3"
    },
    "language_info": {
      "codemirror_mode": {
        "name": "ipython",
        "version": 3
      },
      "file_extension": ".py",
      "mimetype": "text/x-python",
      "name": "python",
      "nbconvert_exporter": "python",
      "pygments_lexer": "ipython3",
      "version": "3.9.13"
    },
    "colab": {
      "provenance": [],
      "collapsed_sections": [
        "tW3uMfHVtu3t"
      ],
      "include_colab_link": true
    }
  },
  "nbformat": 4,
  "nbformat_minor": 5
}
